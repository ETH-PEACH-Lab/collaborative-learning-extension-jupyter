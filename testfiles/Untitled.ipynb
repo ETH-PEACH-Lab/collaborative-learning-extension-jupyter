{
 "cells": [
  {
   "cell_type": "code",
   "execution_count": null,
   "id": "2db1a7d8-c951-464f-bcdb-f5901fe24a50",
   "metadata": {},
   "outputs": [],
   "source": []
  },
  {
   "cell_type": "markdown",
   "id": "e5a91d8b-f968-4570-b0c1-dd6048b9a758",
   "metadata": {},
   "source": [
    "# ds"
   ]
  },
  {
   "cell_type": "code",
   "execution_count": null,
   "id": "99e761c2-6f5b-4577-82b7-3f6fa42136c7",
   "metadata": {},
   "outputs": [],
   "source": []
  },
  {
   "cell_type": "code",
   "execution_count": null,
   "id": "22e45ec3-8f8b-45a7-bbbf-84caa6df4d03",
   "metadata": {},
   "outputs": [],
   "source": []
  },
  {
   "cell_type": "code",
   "execution_count": null,
   "id": "95c7279b-2ddf-45f7-ab1f-dfc1ce888880",
   "metadata": {},
   "outputs": [],
   "source": [
    "def factorial(n):\n",
    "    \"\"\"\n",
    "    Calculate the factorial of a non-negative integer n.\n",
    "    \"\"\"\n",
    "    if (n <= 0):\n",
    "        return 1;\n",
    "    return n * factorial(n-1)"
   ]
  },
  {
   "cell_type": "markdown",
   "id": "fea3a587-c5d2-4fcb-9299-0d7843181058",
   "metadata": {},
   "source": [
    "# ddd"
   ]
  },
  {
   "cell_type": "code",
   "execution_count": null,
   "id": "d11a18e0",
   "metadata": {},
   "outputs": [],
   "source": []
  },
  {
   "cell_type": "markdown",
   "id": "4fee5b05",
   "metadata": {},
   "source": [
    "# ds"
   ]
  },
  {
   "cell_type": "code",
   "execution_count": null,
   "id": "42b0a991",
   "metadata": {},
   "outputs": [],
   "source": []
  },
  {
   "cell_type": "code",
   "execution_count": null,
   "id": "5868f196",
   "metadata": {},
   "outputs": [],
   "source": []
  },
  {
   "cell_type": "code",
   "execution_count": null,
   "id": "052986e5",
   "metadata": {},
   "outputs": [],
   "source": []
  },
  {
   "cell_type": "raw",
   "id": "844e678d",
   "metadata": {},
   "source": []
  },
  {
   "cell_type": "markdown",
   "id": "985e20f7",
   "metadata": {},
   "source": []
  },
  {
   "cell_type": "markdown",
   "id": "bfbb9383",
   "metadata": {},
   "source": [
    "# ddd"
   ]
  }
 ],
 "metadata": {
  "kernelspec": {
   "display_name": "Python 3 (ipykernel)",
   "language": "python",
   "name": "python3"
  },
  "language_info": {
   "codemirror_mode": {
    "name": "ipython",
    "version": 3
   },
   "file_extension": ".py",
   "mimetype": "text/x-python",
   "name": "python",
   "nbconvert_exporter": "python",
   "pygments_lexer": "ipython3",
   "version": "3.12.2"
  }
 },
 "nbformat": 4,
 "nbformat_minor": 5
}
